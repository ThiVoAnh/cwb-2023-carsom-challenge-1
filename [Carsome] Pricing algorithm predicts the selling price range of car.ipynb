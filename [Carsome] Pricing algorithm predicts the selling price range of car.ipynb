{
 "cells": [
  {
   "cell_type": "code",
   "execution_count": 38,
   "id": "bd888de7",
   "metadata": {},
   "outputs": [],
   "source": [
    "import pandas as pd\n",
    "import numpy as np \n",
    "from sklearn.model_selection import train_test_split\n",
    "from sklearn import metrics\n",
    "from sklearn.metrics import r2_score,mean_absolute_error\n",
    "from sklearn.tree import DecisionTreeRegressor\n",
    "from sklearn.ensemble import IsolationForest\n",
    "from sklearn.preprocessing import LabelEncoder\n",
    "import seaborn as sns\n",
    "import matplotlib.pyplot as plt\n",
    "import joblib"
   ]
  },
  {
   "cell_type": "markdown",
   "id": "2579036b",
   "metadata": {},
   "source": [
    "### Data exploration"
   ]
  },
  {
   "cell_type": "code",
   "execution_count": 39,
   "id": "541ab187",
   "metadata": {},
   "outputs": [],
   "source": [
    "# Load CSV file\n",
    "car_df = pd.read_csv('Microsoft x Carsome Hackathon Auction Data Set - fancy-adventurous-peacock-62328.csv')"
   ]
  },
  {
   "cell_type": "code",
   "execution_count": 40,
   "id": "da066349",
   "metadata": {},
   "outputs": [
    {
     "data": {
      "text/html": [
       "<div>\n",
       "<style scoped>\n",
       "    .dataframe tbody tr th:only-of-type {\n",
       "        vertical-align: middle;\n",
       "    }\n",
       "\n",
       "    .dataframe tbody tr th {\n",
       "        vertical-align: top;\n",
       "    }\n",
       "\n",
       "    .dataframe thead th {\n",
       "        text-align: right;\n",
       "    }\n",
       "</style>\n",
       "<table border=\"1\" class=\"dataframe\">\n",
       "  <thead>\n",
       "    <tr style=\"text-align: right;\">\n",
       "      <th></th>\n",
       "      <th>lead_id</th>\n",
       "      <th>marketplace_id</th>\n",
       "      <th>marketplace_car_id</th>\n",
       "      <th>used_dealer_company_id</th>\n",
       "      <th>dealer_id</th>\n",
       "      <th>car_brand</th>\n",
       "      <th>car_model</th>\n",
       "      <th>car_variant</th>\n",
       "      <th>car_engine</th>\n",
       "      <th>car_year</th>\n",
       "      <th>car_transmission</th>\n",
       "      <th>reserveprice</th>\n",
       "    </tr>\n",
       "  </thead>\n",
       "  <tbody>\n",
       "    <tr>\n",
       "      <th>0</th>\n",
       "      <td>928320</td>\n",
       "      <td>141263</td>\n",
       "      <td>292354</td>\n",
       "      <td>4620.0</td>\n",
       "      <td>4728</td>\n",
       "      <td>honda</td>\n",
       "      <td>freed</td>\n",
       "      <td>s</td>\n",
       "      <td>1.5</td>\n",
       "      <td>2012</td>\n",
       "      <td>Auto</td>\n",
       "      <td>85000000</td>\n",
       "    </tr>\n",
       "    <tr>\n",
       "      <th>1</th>\n",
       "      <td>944610</td>\n",
       "      <td>141300</td>\n",
       "      <td>299526</td>\n",
       "      <td>5033.0</td>\n",
       "      <td>5141</td>\n",
       "      <td>honda</td>\n",
       "      <td>city</td>\n",
       "      <td>vtec</td>\n",
       "      <td>1.5</td>\n",
       "      <td>2011</td>\n",
       "      <td>Auto</td>\n",
       "      <td>95000000</td>\n",
       "    </tr>\n",
       "    <tr>\n",
       "      <th>2</th>\n",
       "      <td>929573</td>\n",
       "      <td>141255</td>\n",
       "      <td>290464</td>\n",
       "      <td>4471.0</td>\n",
       "      <td>4579</td>\n",
       "      <td>honda</td>\n",
       "      <td>hr-v</td>\n",
       "      <td>s</td>\n",
       "      <td>1.5</td>\n",
       "      <td>2016</td>\n",
       "      <td>Auto</td>\n",
       "      <td>139000000</td>\n",
       "    </tr>\n",
       "    <tr>\n",
       "      <th>3</th>\n",
       "      <td>942475</td>\n",
       "      <td>141290</td>\n",
       "      <td>297815</td>\n",
       "      <td>4697.0</td>\n",
       "      <td>4805</td>\n",
       "      <td>suzuki</td>\n",
       "      <td>ertiga</td>\n",
       "      <td>gl</td>\n",
       "      <td>1.4</td>\n",
       "      <td>2016</td>\n",
       "      <td>Manual</td>\n",
       "      <td>115000000</td>\n",
       "    </tr>\n",
       "    <tr>\n",
       "      <th>4</th>\n",
       "      <td>926113</td>\n",
       "      <td>141273</td>\n",
       "      <td>294157</td>\n",
       "      <td>4351.0</td>\n",
       "      <td>4459</td>\n",
       "      <td>suzuki</td>\n",
       "      <td>ertiga</td>\n",
       "      <td>gx</td>\n",
       "      <td>1.4</td>\n",
       "      <td>2014</td>\n",
       "      <td>Manual</td>\n",
       "      <td>85000000</td>\n",
       "    </tr>\n",
       "  </tbody>\n",
       "</table>\n",
       "</div>"
      ],
      "text/plain": [
       "   lead_id  marketplace_id  marketplace_car_id  used_dealer_company_id  \\\n",
       "0   928320          141263              292354                  4620.0   \n",
       "1   944610          141300              299526                  5033.0   \n",
       "2   929573          141255              290464                  4471.0   \n",
       "3   942475          141290              297815                  4697.0   \n",
       "4   926113          141273              294157                  4351.0   \n",
       "\n",
       "   dealer_id car_brand car_model car_variant  car_engine  car_year  \\\n",
       "0       4728     honda     freed           s         1.5      2012   \n",
       "1       5141     honda      city        vtec         1.5      2011   \n",
       "2       4579     honda      hr-v           s         1.5      2016   \n",
       "3       4805    suzuki    ertiga          gl         1.4      2016   \n",
       "4       4459    suzuki    ertiga          gx         1.4      2014   \n",
       "\n",
       "  car_transmission  reserveprice  \n",
       "0             Auto      85000000  \n",
       "1             Auto      95000000  \n",
       "2             Auto     139000000  \n",
       "3           Manual     115000000  \n",
       "4           Manual      85000000  "
      ]
     },
     "execution_count": 40,
     "metadata": {},
     "output_type": "execute_result"
    }
   ],
   "source": [
    "car_df.head()"
   ]
  },
  {
   "cell_type": "code",
   "execution_count": 41,
   "id": "07514140",
   "metadata": {},
   "outputs": [
    {
     "data": {
      "text/plain": [
       "(50000, 12)"
      ]
     },
     "execution_count": 41,
     "metadata": {},
     "output_type": "execute_result"
    }
   ],
   "source": [
    "car_df.shape"
   ]
  },
  {
   "cell_type": "markdown",
   "id": "4d827e58",
   "metadata": {},
   "source": [
    "### Data cleaning and exploration"
   ]
  },
  {
   "cell_type": "code",
   "execution_count": 42,
   "id": "1d00e41e",
   "metadata": {},
   "outputs": [],
   "source": [
    "# Drop the columns that will not be utilized.\n",
    "drop_cols = ['lead_id', 'marketplace_id', 'marketplace_car_id', 'used_dealer_company_id', 'dealer_id']\n",
    "car_df = car_df.drop(drop_cols, axis = 1)"
   ]
  },
  {
   "cell_type": "code",
   "execution_count": 43,
   "id": "ced4d421",
   "metadata": {},
   "outputs": [
    {
     "data": {
      "text/plain": [
       "car_brand           0\n",
       "car_model           0\n",
       "car_variant         2\n",
       "car_engine          1\n",
       "car_year            0\n",
       "car_transmission    0\n",
       "reserveprice        0\n",
       "dtype: int64"
      ]
     },
     "execution_count": 43,
     "metadata": {},
     "output_type": "execute_result"
    }
   ],
   "source": [
    "# Check missing value\n",
    "car_df.isnull().sum()"
   ]
  },
  {
   "cell_type": "code",
   "execution_count": 44,
   "id": "7485cd57",
   "metadata": {},
   "outputs": [],
   "source": [
    "# Drop the null values.\n",
    "car_df = car_df.dropna()"
   ]
  },
  {
   "cell_type": "code",
   "execution_count": 45,
   "id": "a3df889f",
   "metadata": {},
   "outputs": [
    {
     "data": {
      "text/html": [
       "<div>\n",
       "<style scoped>\n",
       "    .dataframe tbody tr th:only-of-type {\n",
       "        vertical-align: middle;\n",
       "    }\n",
       "\n",
       "    .dataframe tbody tr th {\n",
       "        vertical-align: top;\n",
       "    }\n",
       "\n",
       "    .dataframe thead th {\n",
       "        text-align: right;\n",
       "    }\n",
       "</style>\n",
       "<table border=\"1\" class=\"dataframe\">\n",
       "  <thead>\n",
       "    <tr style=\"text-align: right;\">\n",
       "      <th></th>\n",
       "      <th>car_brand</th>\n",
       "      <th>car_model</th>\n",
       "      <th>car_variant</th>\n",
       "      <th>car_engine</th>\n",
       "      <th>car_year</th>\n",
       "      <th>car_transmission</th>\n",
       "      <th>reserveprice</th>\n",
       "    </tr>\n",
       "  </thead>\n",
       "  <tbody>\n",
       "    <tr>\n",
       "      <th>0</th>\n",
       "      <td>honda</td>\n",
       "      <td>freed</td>\n",
       "      <td>s</td>\n",
       "      <td>1.5</td>\n",
       "      <td>2012</td>\n",
       "      <td>Auto</td>\n",
       "      <td>85000000</td>\n",
       "    </tr>\n",
       "    <tr>\n",
       "      <th>1</th>\n",
       "      <td>honda</td>\n",
       "      <td>city</td>\n",
       "      <td>vtec</td>\n",
       "      <td>1.5</td>\n",
       "      <td>2011</td>\n",
       "      <td>Auto</td>\n",
       "      <td>95000000</td>\n",
       "    </tr>\n",
       "    <tr>\n",
       "      <th>2</th>\n",
       "      <td>honda</td>\n",
       "      <td>hr-v</td>\n",
       "      <td>s</td>\n",
       "      <td>1.5</td>\n",
       "      <td>2016</td>\n",
       "      <td>Auto</td>\n",
       "      <td>139000000</td>\n",
       "    </tr>\n",
       "    <tr>\n",
       "      <th>3</th>\n",
       "      <td>suzuki</td>\n",
       "      <td>ertiga</td>\n",
       "      <td>gl</td>\n",
       "      <td>1.4</td>\n",
       "      <td>2016</td>\n",
       "      <td>Manual</td>\n",
       "      <td>115000000</td>\n",
       "    </tr>\n",
       "    <tr>\n",
       "      <th>4</th>\n",
       "      <td>suzuki</td>\n",
       "      <td>ertiga</td>\n",
       "      <td>gx</td>\n",
       "      <td>1.4</td>\n",
       "      <td>2014</td>\n",
       "      <td>Manual</td>\n",
       "      <td>85000000</td>\n",
       "    </tr>\n",
       "    <tr>\n",
       "      <th>...</th>\n",
       "      <td>...</td>\n",
       "      <td>...</td>\n",
       "      <td>...</td>\n",
       "      <td>...</td>\n",
       "      <td>...</td>\n",
       "      <td>...</td>\n",
       "      <td>...</td>\n",
       "    </tr>\n",
       "    <tr>\n",
       "      <th>49995</th>\n",
       "      <td>toyota</td>\n",
       "      <td>avanza</td>\n",
       "      <td>g</td>\n",
       "      <td>1.3</td>\n",
       "      <td>2010</td>\n",
       "      <td>Manual</td>\n",
       "      <td>70000000</td>\n",
       "    </tr>\n",
       "    <tr>\n",
       "      <th>49996</th>\n",
       "      <td>honda</td>\n",
       "      <td>brio</td>\n",
       "      <td>rs</td>\n",
       "      <td>1.2</td>\n",
       "      <td>2017</td>\n",
       "      <td>Manual</td>\n",
       "      <td>408000000</td>\n",
       "    </tr>\n",
       "    <tr>\n",
       "      <th>49997</th>\n",
       "      <td>toyota</td>\n",
       "      <td>kijang innova</td>\n",
       "      <td>v</td>\n",
       "      <td>2.0</td>\n",
       "      <td>2019</td>\n",
       "      <td>Auto</td>\n",
       "      <td>290000000</td>\n",
       "    </tr>\n",
       "    <tr>\n",
       "      <th>49998</th>\n",
       "      <td>toyota</td>\n",
       "      <td>avanza</td>\n",
       "      <td>veloz</td>\n",
       "      <td>1.5</td>\n",
       "      <td>2017</td>\n",
       "      <td>Auto</td>\n",
       "      <td>135000000</td>\n",
       "    </tr>\n",
       "    <tr>\n",
       "      <th>49999</th>\n",
       "      <td>nissan</td>\n",
       "      <td>juke</td>\n",
       "      <td>rx</td>\n",
       "      <td>1.5</td>\n",
       "      <td>2011</td>\n",
       "      <td>Auto</td>\n",
       "      <td>85000000</td>\n",
       "    </tr>\n",
       "  </tbody>\n",
       "</table>\n",
       "<p>49997 rows × 7 columns</p>\n",
       "</div>"
      ],
      "text/plain": [
       "      car_brand      car_model car_variant  car_engine  car_year  \\\n",
       "0         honda          freed           s         1.5      2012   \n",
       "1         honda           city        vtec         1.5      2011   \n",
       "2         honda           hr-v           s         1.5      2016   \n",
       "3        suzuki         ertiga          gl         1.4      2016   \n",
       "4        suzuki         ertiga          gx         1.4      2014   \n",
       "...         ...            ...         ...         ...       ...   \n",
       "49995    toyota         avanza           g         1.3      2010   \n",
       "49996     honda           brio          rs         1.2      2017   \n",
       "49997    toyota  kijang innova           v         2.0      2019   \n",
       "49998    toyota         avanza       veloz         1.5      2017   \n",
       "49999    nissan           juke          rx         1.5      2011   \n",
       "\n",
       "      car_transmission  reserveprice  \n",
       "0                 Auto      85000000  \n",
       "1                 Auto      95000000  \n",
       "2                 Auto     139000000  \n",
       "3               Manual     115000000  \n",
       "4               Manual      85000000  \n",
       "...                ...           ...  \n",
       "49995           Manual      70000000  \n",
       "49996           Manual     408000000  \n",
       "49997             Auto     290000000  \n",
       "49998             Auto     135000000  \n",
       "49999             Auto      85000000  \n",
       "\n",
       "[49997 rows x 7 columns]"
      ]
     },
     "execution_count": 45,
     "metadata": {},
     "output_type": "execute_result"
    }
   ],
   "source": [
    "car_df"
   ]
  },
  {
   "cell_type": "code",
   "execution_count": 46,
   "id": "e225b666",
   "metadata": {},
   "outputs": [],
   "source": [
    "# Create list of category columns and numeric columns\n",
    "cat_df = ['car_brand', 'car_model', 'car_variant']\n",
    "num_cols = ['car_engine', 'car_year', 'reserveprice', 'car_transmission']"
   ]
  },
  {
   "cell_type": "code",
   "execution_count": 47,
   "id": "0435765d",
   "metadata": {},
   "outputs": [
    {
     "data": {
      "text/plain": [
       "array(['honda', 'suzuki', 'daihatsu', 'ford', 'isuzu', 'toyota',\n",
       "       'mitsubishi', 'chevrolet', 'mazda', 'nissan', 'wuling', 'kia',\n",
       "       'volkswagen', 'bmw', 'land rover', 'hyundai', 'peugeot',\n",
       "       'mercedes-benz', 'mini', 'subaru', 'datsun', 'audi', 'ota',\n",
       "       'renault', 'tata', 'fordta'], dtype=object)"
      ]
     },
     "execution_count": 47,
     "metadata": {},
     "output_type": "execute_result"
    }
   ],
   "source": [
    "car_df['car_brand'].unique()"
   ]
  },
  {
   "cell_type": "code",
   "execution_count": 48,
   "id": "4e761728",
   "metadata": {},
   "outputs": [
    {
     "data": {
      "text/plain": [
       "array(['freed', 'city', 'hr-v', 'ertiga', 'sigra', 'fiesta', 'brio',\n",
       "       'mu-x', 'cr-v', 'br-v', 'calya', 'swift', 'xenia', 'xpander',\n",
       "       'outlander', 'alphard', 'outlander sport', 'civic', 'avanza',\n",
       "       'trax', 'delica', '8', 'mobilio', 'sienta', 'cx-30', 'jazz',\n",
       "       'livina', 'grand livina', 'vellfire', 'fortuner', 'camry', 'juke',\n",
       "       'gran max', 'terios', 'march', 'pajero sport', 'confero',\n",
       "       'kijang innova', 'yaris', 'elysion', 'biante', 'sedona', 'polo',\n",
       "       'cx-5', '3', 'trailblazer', 'rush', 'vios', 'panther', 'harrier',\n",
       "       'triton', 'innova', 'pajero', 'almaz', 'range rover evoque',\n",
       "       'tiguan', 'cx-9', 'x-over', 'voxy', 'grand avega', '207', 'serena',\n",
       "       'x3', 'c-hr', 'mu-7', 'apv', '2', 'karimun', '6', 'terra',\n",
       "       'kijang', 'x1', 'x-trail', 'cortez', 'limo', 'h-1', 'b', 'captiva',\n",
       "       'rio', 'sx4', 'everest', 'ayla', 'kijang super', 'c', 'gle', 'e',\n",
       "       'hilux', 'agya', 'carry', 'cx-3', 'cooper countryman', 'nav1',\n",
       "       'ml', 'corolla altis', 'tucson', 'grand vitara', 'accord',\n",
       "       'corolla', 'cla', 'dyna', 'eclipse cross', 'ranger', 'teana',\n",
       "       'land cruiser', 'xv', 'colt l300', '5', 'i20', 'lancer', 'slk',\n",
       "       'ignis', 'cr-z', 'raize', 'luxio', 'go panca', 'elgrand', 'sirion',\n",
       "       'seltos', 'xl7', 'evalia', 'splash', 'grand escudo', 'ecosport',\n",
       "       'corolla cross', 'go+ panca', 'etios', 'cx-7', 'gl',\n",
       "       'cooper paceman', 'picanto', 'elf', 'cooper', 'grandis', 'colt fe',\n",
       "       'sorento', 'etios valco', 'a6', 'altis', 'aveo', 'katana', 'x5',\n",
       "       'colt t120ss', 'h-4', 'range roverer', 'spin', 'baleno', 'terrano',\n",
       "       'c-trail', 'triber', 'stream', 'mirage', 'wish', 'hiace', 'a4',\n",
       "       'traga', 'santa fe', 'mu-x6', 'a7', 'aerio', 'odyssey', 'wber',\n",
       "       'sportage', 'gla', 'ga', 'colt l200', 'colt l60', 'trooper', 'k',\n",
       "       'cross', 'kwid', 'x4', 'grand i10', 'cx-50', 'colt l309', 'taruna',\n",
       "       'glo', '4', 'sotana', 't livina', 'traxy', 'h-7', 'xv sport',\n",
       "       '200e', '230e', '1', 'so', 'hr', '--v'], dtype=object)"
      ]
     },
     "execution_count": 48,
     "metadata": {},
     "output_type": "execute_result"
    }
   ],
   "source": [
    "car_df['car_model'].unique()"
   ]
  },
  {
   "cell_type": "code",
   "execution_count": 49,
   "id": "7d9dd574",
   "metadata": {
    "scrolled": true
   },
   "outputs": [
    {
     "data": {
      "text/plain": [
       "array(['s', 'vtec', 'gl', 'gx', 'm', 'rs', 'r2', '2wd', 'e', 'g', 'x',\n",
       "       'ultimate', 'gls', 'px', 'fd1', 'r std', 'turbo ltz', 'royal',\n",
       "       'no variant', 'satya e', 'gt', 'el', 'sv', 'z', 'g trd', 'v', 'rx',\n",
       "       'd', 'tx', 'xs', 'dakar', 'i-dsi', 's l', 's ltd', 'i-vtec',\n",
       "       'skyactiv', 'veloz', 'gt tsi', 'xv', 'touring', '20i (ckd)', 'ltz',\n",
       "       'prestige', 's act lux', 'exceed', 'grand touring', '240 g',\n",
       "       'dc gls 4x4', 'vrz', 'sport', 'v diesel', 'd exceed',\n",
       "       'mugen prestige', 'vrz 4x2', 'lt lux + sc cvt', 'g-n140', 'tsi',\n",
       "       'v lux', 'e plus', 'highway star', 'e prestige', 'dreza', '18i',\n",
       "       'hybrid', 'reborn g', 'xdrive20i (ckd)', 'j', 'sport gt',\n",
       "       'single tone', 'tfr85hg', 'luxury', '20i', 'dx', 's trd sportivo',\n",
       "       'box', 'vl', 'r', 'lgx', 'sdrive18i', 'ls', 'st autech', 'c t lux',\n",
       "       'tsi allspace', 'crdi', '200 urban', 'reborn v', 'se', 'turbo',\n",
       "       'tc e', 's-cross', 'kf 42 short', '200 cgi (ckd)',\n",
       "       '400 4matic (ckd)', 'l', '300 (ckd)', 'double cabin g 4x4',\n",
       "       'fd pick up', '280', 'dakar ultimate 4x2', 'sc', 'vrz trd',\n",
       "       'dakar 4x2', 't lux', 'trd sportivo', '330 d', 'x-gear',\n",
       "       'sgx luxury', 'xdrive20i xline', '20i e90 (ckd)', 'r sporty',\n",
       "       'vrz 4x4', '300', 'q-n140', 's trd heykers', 'jlx', 'vti-l',\n",
       "       'g lux', '240 elegance', 'turbo prestige', '200', '110 st',\n",
       "       '200 (ckd)', 'i', 'lt', 'gl arena', 'base', 'a', 'pick up',\n",
       "       'tx adventure', 's (ckd)', '250 xv', 'turbo premier', 'g-h30',\n",
       "       '180', 'hv dual tone', 'ts extra', 'rx red edition', 'prado (4wd)',\n",
       "       'reborn venturer diesel', 'panoramic', 'high', 'i (awd)',\n",
       "       '23i (ckd)', 'gx arena', 'xls', 'x elegant', '200 cgi', 'glxi',\n",
       "       'prestige special edition', '250 amg', 'vti', 'l lux', 'li', 'xi',\n",
       "       'gl sporty', 'single cabin', 's trd', 'x dlx', 'srz', 'zf1', 'rc1',\n",
       "       'gr sport', 'v-limited', 't', 'm804rs', 'v-extra', 'ex+', 'q',\n",
       "       'st', 'ls turbo', 'beta', 'limited edition', 'r dlx', 'dc hdx 4x4',\n",
       "       '3-d', 'm602rs', '23i', 'v6', 'dakar 4x4', 'cross premium', 'xl-7',\n",
       "       '2wd ckd', 'lm', 'x std', 'g trd-luxury', 'gt3', 'titanium',\n",
       "       'q venturer', 'g diesel', 'prado', 'alpha', 'zdi hybrid', 'xg',\n",
       "       'xt', 'low', '200 k', 'd exceed 4x2', 'gs', 'zg', '320',\n",
       "       '500 (ckd)', 'comfort touring', 'autech', 'd exceed 4x4', 'sg ne',\n",
       "       'li deluxe', '250', '71 diesel (2wd)', 'gt skyactiv', 'turbo hb e',\n",
       "       'st 4x2', 'xi family', 'tfsi (ckd)', '250 d', 'hpe 4x4',\n",
       "       'gx short', 'r skyactiv', 'kf 40 short', 'xi sporty', '25i',\n",
       "       's luxury', '20i e30', 'pick up fd ps', 'comfort touring b e',\n",
       "       'estilo', 'cygnus', 'tfsi', 'cross', '250 cgi',\n",
       "       'dakar 4x2 limited edition', 'e lux', 'r family', 'gt2',\n",
       "       'd minibusryms', 'hatchback', 'sgx', 'gx ags', '100 (ckd)',\n",
       "       'dc hdx 4x2', 'gl mt', 'xlt', 's trd sportivo ultimo',\n",
       "       'vrz gr sport', 'gl elegant', 'blind van', '270 short', 'm dlx',\n",
       "       'd std', 'trend', 'd fms', 'rs hatchback', 'rxz',\n",
       "       'dakar ultimate 4x4', 'glx', '170', 'sgx arena', 'tc (ckd)', 'ts',\n",
       "       '200 amg', 'd elegant', 'c', '1840', 'v prestige', 'extra x',\n",
       "       'commuter', '250 g', 'reborn venturer gasoline', 'diesel 304',\n",
       "       'l cbu', 'lx', 'd fmc', 'g lux-luxury', 'r attivo', 've', '10i',\n",
       "       'v-gear', 'kf 49 short', 'r diesel crdi', 'cross over',\n",
       "       'd fmc prestige', 'gc415v dlx', 's c', 't st', 'sport a 4x2',\n",
       "       'pick up box', 'm704rs', '4wd', 'touring extra', 'v2', 'krista',\n",
       "       '230 classi', 'r250', 'c c t lux', 'satya s', 'rx ckd', 'e-extra',\n",
       "       '3wd', 'highway star autech', 'highway star arena', 's sporty',\n",
       "       'sdrive18i (ckd)', 'tx dlx', 'gs deluxe', '330', 'turbo-trail',\n",
       "       'cross skyactiv', 'r ltd', 'd-gear', 'icken', 'd minibus',\n",
       "       'd fmc gls', 'climber', 'sc-h30', 'tsi autech', 'e altpace', 'sx',\n",
       "       'royal adventure', '245 elegance', 'rs-cross', '2wd ckd deluxe',\n",
       "       'g-e140', '2927640 cgi', 'royal extra', 'e diesel', 'tone',\n",
       "       '28i (ckd)', 'd sporty', 'vrz lux', 'grand touring prestige',\n",
       "       'zf7', 'cx deluxe', 'ch prestige', 's skyactiv', '330 classic',\n",
       "       't std', 'dakar 4x3', 'sport gt ags', 'e trd', '100', 'gl ags',\n",
       "       'gs ags', 't prestige', 'double cabin g 4x2',\n",
       "       'trd sportivo ultimo', 'gl 29017', 'comfort', 'g arena',\n",
       "       'royal hatchback', 's cross', 'rx-cross', 'gt8', '250 d short',\n",
       "       'm702rs', 'd extra', '1840 amg', 'tsi trd', 'ssx', '20i e10 (ckd)',\n",
       "       '20i e', 'sport prestige', 'gx deluxe', '2 st', '25i e90 (ckd)',\n",
       "       '280 7g tronic', '320 (ckd)', 's short', 'c t lux + sc cvt', 'zga',\n",
       "       '400 (ckd)', 'x-extra', '20i e60 (ckd)', 's e', '230 (ckd)',\n",
       "       'xi deluxe', 'vrz 4x2 limited edition', 'm804rs sportivo', 'ge',\n",
       "       '2', 'gl autech', '240', 'xi dlx', 'sport gt touring',\n",
       "       'd exceed 4x6', '4wd ckd', '5wd'], dtype=object)"
      ]
     },
     "execution_count": 49,
     "metadata": {},
     "output_type": "execute_result"
    }
   ],
   "source": [
    "car_df['car_variant'].unique()"
   ]
  },
  {
   "cell_type": "code",
   "execution_count": 50,
   "id": "f27d6049",
   "metadata": {},
   "outputs": [
    {
     "data": {
      "text/plain": [
       "array([1.5, 1.4, 1. , 1.2, 2.5, 2.4, 2. , 1.3, 1.8, 2.3, 2.2, 3.7, 1.6,\n",
       "       3. , 2.8, 3.5, 2.7, 3.2, 2.6, 4. , 4.7, 1.1, 3.3, 2.1, 3.9, 1.9,\n",
       "       2.9, 1.7, 3.8])"
      ]
     },
     "execution_count": 50,
     "metadata": {},
     "output_type": "execute_result"
    }
   ],
   "source": [
    "car_df['car_engine'].unique()"
   ]
  },
  {
   "cell_type": "code",
   "execution_count": 51,
   "id": "75bdd7f7",
   "metadata": {},
   "outputs": [
    {
     "data": {
      "text/plain": [
       "array([2012, 2011, 2016, 2014, 2019, 2013, 2020, 2018, 2015, 2010, 2017,\n",
       "       2007, 2008, 2005, 2009, 1994, 2001, 2003, 2021, 2002, 1995, 1997,\n",
       "       2004, 2006, 2000, 1996, 1989, 1990, 1998, 1993, 1991])"
      ]
     },
     "execution_count": 51,
     "metadata": {},
     "output_type": "execute_result"
    }
   ],
   "source": [
    "car_df['car_year'].unique()"
   ]
  },
  {
   "cell_type": "code",
   "execution_count": 52,
   "id": "b4afd04f",
   "metadata": {},
   "outputs": [
    {
     "data": {
      "text/plain": [
       "array(['Auto', 'Manual'], dtype=object)"
      ]
     },
     "execution_count": 52,
     "metadata": {},
     "output_type": "execute_result"
    }
   ],
   "source": [
    "car_df['car_transmission'].unique()"
   ]
  },
  {
   "cell_type": "code",
   "execution_count": 53,
   "id": "e4e3f515",
   "metadata": {},
   "outputs": [
    {
     "data": {
      "text/html": [
       "<div>\n",
       "<style scoped>\n",
       "    .dataframe tbody tr th:only-of-type {\n",
       "        vertical-align: middle;\n",
       "    }\n",
       "\n",
       "    .dataframe tbody tr th {\n",
       "        vertical-align: top;\n",
       "    }\n",
       "\n",
       "    .dataframe thead th {\n",
       "        text-align: right;\n",
       "    }\n",
       "</style>\n",
       "<table border=\"1\" class=\"dataframe\">\n",
       "  <thead>\n",
       "    <tr style=\"text-align: right;\">\n",
       "      <th></th>\n",
       "      <th>car_engine</th>\n",
       "      <th>car_year</th>\n",
       "      <th>reserveprice</th>\n",
       "    </tr>\n",
       "  </thead>\n",
       "  <tbody>\n",
       "    <tr>\n",
       "      <th>count</th>\n",
       "      <td>49997.000000</td>\n",
       "      <td>49997.000000</td>\n",
       "      <td>4.999700e+04</td>\n",
       "    </tr>\n",
       "    <tr>\n",
       "      <th>mean</th>\n",
       "      <td>1.814315</td>\n",
       "      <td>2014.315919</td>\n",
       "      <td>1.659335e+08</td>\n",
       "    </tr>\n",
       "    <tr>\n",
       "      <th>std</th>\n",
       "      <td>0.526666</td>\n",
       "      <td>4.020775</td>\n",
       "      <td>1.254992e+08</td>\n",
       "    </tr>\n",
       "    <tr>\n",
       "      <th>min</th>\n",
       "      <td>1.000000</td>\n",
       "      <td>1989.000000</td>\n",
       "      <td>1.500000e+06</td>\n",
       "    </tr>\n",
       "    <tr>\n",
       "      <th>25%</th>\n",
       "      <td>1.500000</td>\n",
       "      <td>2012.000000</td>\n",
       "      <td>8.950000e+07</td>\n",
       "    </tr>\n",
       "    <tr>\n",
       "      <th>50%</th>\n",
       "      <td>1.500000</td>\n",
       "      <td>2015.000000</td>\n",
       "      <td>1.300000e+08</td>\n",
       "    </tr>\n",
       "    <tr>\n",
       "      <th>75%</th>\n",
       "      <td>2.200000</td>\n",
       "      <td>2017.000000</td>\n",
       "      <td>2.000000e+08</td>\n",
       "    </tr>\n",
       "    <tr>\n",
       "      <th>max</th>\n",
       "      <td>4.700000</td>\n",
       "      <td>2021.000000</td>\n",
       "      <td>9.000000e+08</td>\n",
       "    </tr>\n",
       "  </tbody>\n",
       "</table>\n",
       "</div>"
      ],
      "text/plain": [
       "         car_engine      car_year  reserveprice\n",
       "count  49997.000000  49997.000000  4.999700e+04\n",
       "mean       1.814315   2014.315919  1.659335e+08\n",
       "std        0.526666      4.020775  1.254992e+08\n",
       "min        1.000000   1989.000000  1.500000e+06\n",
       "25%        1.500000   2012.000000  8.950000e+07\n",
       "50%        1.500000   2015.000000  1.300000e+08\n",
       "75%        2.200000   2017.000000  2.000000e+08\n",
       "max        4.700000   2021.000000  9.000000e+08"
      ]
     },
     "execution_count": 53,
     "metadata": {},
     "output_type": "execute_result"
    }
   ],
   "source": [
    "# Explore the data\n",
    "car_df.describe()"
   ]
  },
  {
   "cell_type": "code",
   "execution_count": 54,
   "id": "8b92045b",
   "metadata": {},
   "outputs": [
    {
     "data": {
      "text/html": [
       "<div>\n",
       "<style scoped>\n",
       "    .dataframe tbody tr th:only-of-type {\n",
       "        vertical-align: middle;\n",
       "    }\n",
       "\n",
       "    .dataframe tbody tr th {\n",
       "        vertical-align: top;\n",
       "    }\n",
       "\n",
       "    .dataframe thead th {\n",
       "        text-align: right;\n",
       "    }\n",
       "</style>\n",
       "<table border=\"1\" class=\"dataframe\">\n",
       "  <thead>\n",
       "    <tr style=\"text-align: right;\">\n",
       "      <th></th>\n",
       "      <th>car_engine</th>\n",
       "      <th>car_year</th>\n",
       "      <th>reserveprice</th>\n",
       "    </tr>\n",
       "  </thead>\n",
       "  <tbody>\n",
       "    <tr>\n",
       "      <th>car_engine</th>\n",
       "      <td>1.000000</td>\n",
       "      <td>-0.249341</td>\n",
       "      <td>0.328706</td>\n",
       "    </tr>\n",
       "    <tr>\n",
       "      <th>car_year</th>\n",
       "      <td>-0.249341</td>\n",
       "      <td>1.000000</td>\n",
       "      <td>0.405830</td>\n",
       "    </tr>\n",
       "    <tr>\n",
       "      <th>reserveprice</th>\n",
       "      <td>0.328706</td>\n",
       "      <td>0.405830</td>\n",
       "      <td>1.000000</td>\n",
       "    </tr>\n",
       "  </tbody>\n",
       "</table>\n",
       "</div>"
      ],
      "text/plain": [
       "              car_engine  car_year  reserveprice\n",
       "car_engine      1.000000 -0.249341      0.328706\n",
       "car_year       -0.249341  1.000000      0.405830\n",
       "reserveprice    0.328706  0.405830      1.000000"
      ]
     },
     "execution_count": 54,
     "metadata": {},
     "output_type": "execute_result"
    }
   ],
   "source": [
    "# Check correlation of numeric features\n",
    "corr = car_df[num_cols].corr(numeric_only=True)\n",
    "corr"
   ]
  },
  {
   "cell_type": "code",
   "execution_count": 55,
   "id": "a1ef47c9",
   "metadata": {
    "scrolled": true
   },
   "outputs": [
    {
     "data": {
      "image/png": "[encoded data removed]",
      "text/plain": [
       "<Figure size 2800x1200 with 2 Axes>"
      ]
     },
     "metadata": {},
     "output_type": "display_data"
    }
   ],
   "source": [
    "# Plotting the correlation\n",
    "plt.figure(figsize=(28, 12))\n",
    "sns.heatmap(corr, cmap='YlGnBu', annot=True)\n",
    "plt.show()"
   ]
  },
  {
   "cell_type": "markdown",
   "id": "c3633081",
   "metadata": {},
   "source": [
    "As a result, the correlation of the feature to the target value is not significant, so all the features will be utilized."
   ]
  },
  {
   "cell_type": "code",
   "execution_count": 56,
   "id": "977bb69a",
   "metadata": {},
   "outputs": [
    {
     "data": {
      "text/plain": [
       "Text(0.5, 1.0, 'Boxplot figure of care reserve price')"
      ]
     },
     "execution_count": 56,
     "metadata": {},
     "output_type": "execute_result"
    },
    {
     "data": {
      "image/png": "[encoded data removed]",
      "text/plain": [
       "<Figure size 640x480 with 1 Axes>"
      ]
     },
     "metadata": {},
     "output_type": "display_data"
    }
   ],
   "source": [
    "# Detect outlier of the car price.\n",
    "sns.boxplot(data = car_df, x = car_df['reserveprice'])\n",
    "plt.title(\"Boxplot figure of care reserve price\")"
   ]
  },
  {
   "cell_type": "code",
   "execution_count": 57,
   "id": "6877112a",
   "metadata": {},
   "outputs": [
    {
     "data": {
      "text/plain": [
       "<Axes: xlabel='reserveprice', ylabel='Density'>"
      ]
     },
     "execution_count": 57,
     "metadata": {},
     "output_type": "execute_result"
    },
    {
     "data": {
      "image/png": "[encoded data removed]",
      "text/plain": [
       "<Figure size 640x480 with 1 Axes>"
      ]
     },
     "metadata": {},
     "output_type": "display_data"
    }
   ],
   "source": [
    "# Check the distribution of the price data\n",
    "sns.histplot(\n",
    "    car_df['reserveprice'], kde = True,\n",
    "    stat = \"density\", kde_kws=dict(cut=3)\n",
    ")"
   ]
  },
  {
   "cell_type": "code",
   "execution_count": 58,
   "id": "fc39e870",
   "metadata": {},
   "outputs": [
    {
     "data": {
      "text/html": [
       "<style>#sk-container-id-3 {color: black;background-color: white;}#sk-container-id-3 pre{padding: 0;}#sk-container-id-3 div.sk-toggleable {background-color: white;}#sk-container-id-3 label.sk-toggleable__label {cursor: pointer;display: block;width: 100%;margin-bottom: 0;padding: 0.3em;box-sizing: border-box;text-align: center;}#sk-container-id-3 label.sk-toggleable__label-arrow:before {content: \"▸\";float: left;margin-right: 0.25em;color: #696969;}#sk-container-id-3 label.sk-toggleable__label-arrow:hover:before {color: black;}#sk-container-id-3 div.sk-estimator:hover label.sk-toggleable__label-arrow:before {color: black;}#sk-container-id-3 div.sk-toggleable__content {max-height: 0;max-width: 0;overflow: hidden;text-align: left;background-color: #f0f8ff;}#sk-container-id-3 div.sk-toggleable__content pre {margin: 0.2em;color: black;border-radius: 0.25em;background-color: #f0f8ff;}#sk-container-id-3 input.sk-toggleable__control:checked~div.sk-toggleable__content {max-height: 200px;max-width: 100%;overflow: auto;}#sk-container-id-3 input.sk-toggleable__control:checked~label.sk-toggleable__label-arrow:before {content: \"▾\";}#sk-container-id-3 div.sk-estimator input.sk-toggleable__control:checked~label.sk-toggleable__label {background-color: #d4ebff;}#sk-container-id-3 div.sk-label input.sk-toggleable__control:checked~label.sk-toggleable__label {background-color: #d4ebff;}#sk-container-id-3 input.sk-hidden--visually {border: 0;clip: rect(1px 1px 1px 1px);clip: rect(1px, 1px, 1px, 1px);height: 1px;margin: -1px;overflow: hidden;padding: 0;position: absolute;width: 1px;}#sk-container-id-3 div.sk-estimator {font-family: monospace;background-color: #f0f8ff;border: 1px dotted black;border-radius: 0.25em;box-sizing: border-box;margin-bottom: 0.5em;}#sk-container-id-3 div.sk-estimator:hover {background-color: #d4ebff;}#sk-container-id-3 div.sk-parallel-item::after {content: \"\";width: 100%;border-bottom: 1px solid gray;flex-grow: 1;}#sk-container-id-3 div.sk-label:hover label.sk-toggleable__label {background-color: #d4ebff;}#sk-container-id-3 div.sk-serial::before {content: \"\";position: absolute;border-left: 1px solid gray;box-sizing: border-box;top: 0;bottom: 0;left: 50%;z-index: 0;}#sk-container-id-3 div.sk-serial {display: flex;flex-direction: column;align-items: center;background-color: white;padding-right: 0.2em;padding-left: 0.2em;position: relative;}#sk-container-id-3 div.sk-item {position: relative;z-index: 1;}#sk-container-id-3 div.sk-parallel {display: flex;align-items: stretch;justify-content: center;background-color: white;position: relative;}#sk-container-id-3 div.sk-item::before, #sk-container-id-3 div.sk-parallel-item::before {content: \"\";position: absolute;border-left: 1px solid gray;box-sizing: border-box;top: 0;bottom: 0;left: 50%;z-index: -1;}#sk-container-id-3 div.sk-parallel-item {display: flex;flex-direction: column;z-index: 1;position: relative;background-color: white;}#sk-container-id-3 div.sk-parallel-item:first-child::after {align-self: flex-end;width: 50%;}#sk-container-id-3 div.sk-parallel-item:last-child::after {align-self: flex-start;width: 50%;}#sk-container-id-3 div.sk-parallel-item:only-child::after {width: 0;}#sk-container-id-3 div.sk-dashed-wrapped {border: 1px dashed gray;margin: 0 0.4em 0.5em 0.4em;box-sizing: border-box;padding-bottom: 0.4em;background-color: white;}#sk-container-id-3 div.sk-label label {font-family: monospace;font-weight: bold;display: inline-block;line-height: 1.2em;}#sk-container-id-3 div.sk-label-container {text-align: center;}#sk-container-id-3 div.sk-container {/* jupyter's `normalize.less` sets `[hidden] { display: none; }` but bootstrap.min.css set `[hidden] { display: none !important; }` so we also need the `!important` here to be able to override the default hidden behavior on the sphinx rendered scikit-learn.org. See: https://github.com/scikit-learn/scikit-learn/issues/21755 */display: inline-block !important;position: relative;}#sk-container-id-3 div.sk-text-repr-fallback {display: none;}</style><div id=\"sk-container-id-3\" class=\"sk-top-container\"><div class=\"sk-text-repr-fallback\"><pre>IsolationForest(contamination=0.06)</pre><b>In a Jupyter environment, please rerun this cell to show the HTML representation or trust the notebook. <br />On GitHub, the HTML representation is unable to render, please try loading this page with nbviewer.org.</b></div><div class=\"sk-container\" hidden><div class=\"sk-item\"><div class=\"sk-estimator sk-toggleable\"><input class=\"sk-toggleable__control sk-hidden--visually\" id=\"sk-estimator-id-3\" type=\"checkbox\" checked><label for=\"sk-estimator-id-3\" class=\"sk-toggleable__label sk-toggleable__label-arrow\">IsolationForest</label><div class=\"sk-toggleable__content\"><pre>IsolationForest(contamination=0.06)</pre></div></div></div></div></div>"
      ],
      "text/plain": [
       "IsolationForest(contamination=0.06)"
      ]
     },
     "execution_count": 58,
     "metadata": {},
     "output_type": "execute_result"
    }
   ],
   "source": [
    "# Detect and remove outlier with IsolationForest\n",
    "\n",
    "model = IsolationForest(n_estimators=100,\n",
    "                       max_samples='auto',\n",
    "                       contamination=.06,\n",
    "                       max_features=1.0)\n",
    "model.fit(car_df[['reserveprice']].values)"
   ]
  },
  {
   "cell_type": "code",
   "execution_count": 59,
   "id": "13cfbdd2",
   "metadata": {},
   "outputs": [],
   "source": [
    "car_df['score']=model.decision_function(car_df[['reserveprice']].values)\n",
    "car_df['anomaly']=model.predict(car_df[['reserveprice']].values)"
   ]
  },
  {
   "cell_type": "code",
   "execution_count": 60,
   "id": "92197a74",
   "metadata": {},
   "outputs": [
    {
     "data": {
      "text/html": [
       "<div>\n",
       "<style scoped>\n",
       "    .dataframe tbody tr th:only-of-type {\n",
       "        vertical-align: middle;\n",
       "    }\n",
       "\n",
       "    .dataframe tbody tr th {\n",
       "        vertical-align: top;\n",
       "    }\n",
       "\n",
       "    .dataframe thead th {\n",
       "        text-align: right;\n",
       "    }\n",
       "</style>\n",
       "<table border=\"1\" class=\"dataframe\">\n",
       "  <thead>\n",
       "    <tr style=\"text-align: right;\">\n",
       "      <th></th>\n",
       "      <th>car_brand</th>\n",
       "      <th>car_model</th>\n",
       "      <th>car_variant</th>\n",
       "      <th>car_engine</th>\n",
       "      <th>car_year</th>\n",
       "      <th>car_transmission</th>\n",
       "      <th>reserveprice</th>\n",
       "      <th>score</th>\n",
       "      <th>anomaly</th>\n",
       "    </tr>\n",
       "  </thead>\n",
       "  <tbody>\n",
       "    <tr>\n",
       "      <th>0</th>\n",
       "      <td>honda</td>\n",
       "      <td>freed</td>\n",
       "      <td>s</td>\n",
       "      <td>1.5</td>\n",
       "      <td>2012</td>\n",
       "      <td>Auto</td>\n",
       "      <td>85000000</td>\n",
       "      <td>0.144805</td>\n",
       "      <td>1</td>\n",
       "    </tr>\n",
       "    <tr>\n",
       "      <th>1</th>\n",
       "      <td>honda</td>\n",
       "      <td>city</td>\n",
       "      <td>vtec</td>\n",
       "      <td>1.5</td>\n",
       "      <td>2011</td>\n",
       "      <td>Auto</td>\n",
       "      <td>95000000</td>\n",
       "      <td>0.159147</td>\n",
       "      <td>1</td>\n",
       "    </tr>\n",
       "    <tr>\n",
       "      <th>2</th>\n",
       "      <td>honda</td>\n",
       "      <td>hr-v</td>\n",
       "      <td>s</td>\n",
       "      <td>1.5</td>\n",
       "      <td>2016</td>\n",
       "      <td>Auto</td>\n",
       "      <td>139000000</td>\n",
       "      <td>0.157224</td>\n",
       "      <td>1</td>\n",
       "    </tr>\n",
       "    <tr>\n",
       "      <th>3</th>\n",
       "      <td>suzuki</td>\n",
       "      <td>ertiga</td>\n",
       "      <td>gl</td>\n",
       "      <td>1.4</td>\n",
       "      <td>2016</td>\n",
       "      <td>Manual</td>\n",
       "      <td>115000000</td>\n",
       "      <td>0.160581</td>\n",
       "      <td>1</td>\n",
       "    </tr>\n",
       "    <tr>\n",
       "      <th>4</th>\n",
       "      <td>suzuki</td>\n",
       "      <td>ertiga</td>\n",
       "      <td>gx</td>\n",
       "      <td>1.4</td>\n",
       "      <td>2014</td>\n",
       "      <td>Manual</td>\n",
       "      <td>85000000</td>\n",
       "      <td>0.144805</td>\n",
       "      <td>1</td>\n",
       "    </tr>\n",
       "    <tr>\n",
       "      <th>...</th>\n",
       "      <td>...</td>\n",
       "      <td>...</td>\n",
       "      <td>...</td>\n",
       "      <td>...</td>\n",
       "      <td>...</td>\n",
       "      <td>...</td>\n",
       "      <td>...</td>\n",
       "      <td>...</td>\n",
       "      <td>...</td>\n",
       "    </tr>\n",
       "    <tr>\n",
       "      <th>49995</th>\n",
       "      <td>toyota</td>\n",
       "      <td>avanza</td>\n",
       "      <td>g</td>\n",
       "      <td>1.3</td>\n",
       "      <td>2010</td>\n",
       "      <td>Manual</td>\n",
       "      <td>70000000</td>\n",
       "      <td>0.147163</td>\n",
       "      <td>1</td>\n",
       "    </tr>\n",
       "    <tr>\n",
       "      <th>49996</th>\n",
       "      <td>honda</td>\n",
       "      <td>brio</td>\n",
       "      <td>rs</td>\n",
       "      <td>1.2</td>\n",
       "      <td>2017</td>\n",
       "      <td>Manual</td>\n",
       "      <td>408000000</td>\n",
       "      <td>-0.001704</td>\n",
       "      <td>-1</td>\n",
       "    </tr>\n",
       "    <tr>\n",
       "      <th>49997</th>\n",
       "      <td>toyota</td>\n",
       "      <td>kijang innova</td>\n",
       "      <td>v</td>\n",
       "      <td>2.0</td>\n",
       "      <td>2019</td>\n",
       "      <td>Auto</td>\n",
       "      <td>290000000</td>\n",
       "      <td>0.033184</td>\n",
       "      <td>1</td>\n",
       "    </tr>\n",
       "    <tr>\n",
       "      <th>49998</th>\n",
       "      <td>toyota</td>\n",
       "      <td>avanza</td>\n",
       "      <td>veloz</td>\n",
       "      <td>1.5</td>\n",
       "      <td>2017</td>\n",
       "      <td>Auto</td>\n",
       "      <td>135000000</td>\n",
       "      <td>0.155501</td>\n",
       "      <td>1</td>\n",
       "    </tr>\n",
       "    <tr>\n",
       "      <th>49999</th>\n",
       "      <td>nissan</td>\n",
       "      <td>juke</td>\n",
       "      <td>rx</td>\n",
       "      <td>1.5</td>\n",
       "      <td>2011</td>\n",
       "      <td>Auto</td>\n",
       "      <td>85000000</td>\n",
       "      <td>0.144805</td>\n",
       "      <td>1</td>\n",
       "    </tr>\n",
       "  </tbody>\n",
       "</table>\n",
       "<p>49997 rows × 9 columns</p>\n",
       "</div>"
      ],
      "text/plain": [
       "      car_brand      car_model car_variant  car_engine  car_year  \\\n",
       "0         honda          freed           s         1.5      2012   \n",
       "1         honda           city        vtec         1.5      2011   \n",
       "2         honda           hr-v           s         1.5      2016   \n",
       "3        suzuki         ertiga          gl         1.4      2016   \n",
       "4        suzuki         ertiga          gx         1.4      2014   \n",
       "...         ...            ...         ...         ...       ...   \n",
       "49995    toyota         avanza           g         1.3      2010   \n",
       "49996     honda           brio          rs         1.2      2017   \n",
       "49997    toyota  kijang innova           v         2.0      2019   \n",
       "49998    toyota         avanza       veloz         1.5      2017   \n",
       "49999    nissan           juke          rx         1.5      2011   \n",
       "\n",
       "      car_transmission  reserveprice     score  anomaly  \n",
       "0                 Auto      85000000  0.144805        1  \n",
       "1                 Auto      95000000  0.159147        1  \n",
       "2                 Auto     139000000  0.157224        1  \n",
       "3               Manual     115000000  0.160581        1  \n",
       "4               Manual      85000000  0.144805        1  \n",
       "...                ...           ...       ...      ...  \n",
       "49995           Manual      70000000  0.147163        1  \n",
       "49996           Manual     408000000 -0.001704       -1  \n",
       "49997             Auto     290000000  0.033184        1  \n",
       "49998             Auto     135000000  0.155501        1  \n",
       "49999             Auto      85000000  0.144805        1  \n",
       "\n",
       "[49997 rows x 9 columns]"
      ]
     },
     "execution_count": 60,
     "metadata": {},
     "output_type": "execute_result"
    }
   ],
   "source": [
    "car_df"
   ]
  },
  {
   "cell_type": "code",
   "execution_count": 61,
   "id": "6f7a4722",
   "metadata": {},
   "outputs": [],
   "source": [
    "car_df_outlier_rm = car_df.loc[car_df['anomaly'] == 1]"
   ]
  },
  {
   "cell_type": "code",
   "execution_count": 62,
   "id": "f945e58c",
   "metadata": {},
   "outputs": [
    {
     "data": {
      "text/html": [
       "<div>\n",
       "<style scoped>\n",
       "    .dataframe tbody tr th:only-of-type {\n",
       "        vertical-align: middle;\n",
       "    }\n",
       "\n",
       "    .dataframe tbody tr th {\n",
       "        vertical-align: top;\n",
       "    }\n",
       "\n",
       "    .dataframe thead th {\n",
       "        text-align: right;\n",
       "    }\n",
       "</style>\n",
       "<table border=\"1\" class=\"dataframe\">\n",
       "  <thead>\n",
       "    <tr style=\"text-align: right;\">\n",
       "      <th></th>\n",
       "      <th>car_brand</th>\n",
       "      <th>car_model</th>\n",
       "      <th>car_variant</th>\n",
       "      <th>car_engine</th>\n",
       "      <th>car_year</th>\n",
       "      <th>car_transmission</th>\n",
       "      <th>reserveprice</th>\n",
       "      <th>score</th>\n",
       "      <th>anomaly</th>\n",
       "    </tr>\n",
       "  </thead>\n",
       "  <tbody>\n",
       "    <tr>\n",
       "      <th>0</th>\n",
       "      <td>honda</td>\n",
       "      <td>freed</td>\n",
       "      <td>s</td>\n",
       "      <td>1.5</td>\n",
       "      <td>2012</td>\n",
       "      <td>Auto</td>\n",
       "      <td>85000000</td>\n",
       "      <td>0.144805</td>\n",
       "      <td>1</td>\n",
       "    </tr>\n",
       "    <tr>\n",
       "      <th>1</th>\n",
       "      <td>honda</td>\n",
       "      <td>city</td>\n",
       "      <td>vtec</td>\n",
       "      <td>1.5</td>\n",
       "      <td>2011</td>\n",
       "      <td>Auto</td>\n",
       "      <td>95000000</td>\n",
       "      <td>0.159147</td>\n",
       "      <td>1</td>\n",
       "    </tr>\n",
       "    <tr>\n",
       "      <th>2</th>\n",
       "      <td>honda</td>\n",
       "      <td>hr-v</td>\n",
       "      <td>s</td>\n",
       "      <td>1.5</td>\n",
       "      <td>2016</td>\n",
       "      <td>Auto</td>\n",
       "      <td>139000000</td>\n",
       "      <td>0.157224</td>\n",
       "      <td>1</td>\n",
       "    </tr>\n",
       "    <tr>\n",
       "      <th>3</th>\n",
       "      <td>suzuki</td>\n",
       "      <td>ertiga</td>\n",
       "      <td>gl</td>\n",
       "      <td>1.4</td>\n",
       "      <td>2016</td>\n",
       "      <td>Manual</td>\n",
       "      <td>115000000</td>\n",
       "      <td>0.160581</td>\n",
       "      <td>1</td>\n",
       "    </tr>\n",
       "    <tr>\n",
       "      <th>4</th>\n",
       "      <td>suzuki</td>\n",
       "      <td>ertiga</td>\n",
       "      <td>gx</td>\n",
       "      <td>1.4</td>\n",
       "      <td>2014</td>\n",
       "      <td>Manual</td>\n",
       "      <td>85000000</td>\n",
       "      <td>0.144805</td>\n",
       "      <td>1</td>\n",
       "    </tr>\n",
       "    <tr>\n",
       "      <th>...</th>\n",
       "      <td>...</td>\n",
       "      <td>...</td>\n",
       "      <td>...</td>\n",
       "      <td>...</td>\n",
       "      <td>...</td>\n",
       "      <td>...</td>\n",
       "      <td>...</td>\n",
       "      <td>...</td>\n",
       "      <td>...</td>\n",
       "    </tr>\n",
       "    <tr>\n",
       "      <th>49994</th>\n",
       "      <td>mazda</td>\n",
       "      <td>biante</td>\n",
       "      <td>skyactiv</td>\n",
       "      <td>2.0</td>\n",
       "      <td>2012</td>\n",
       "      <td>Auto</td>\n",
       "      <td>110000000</td>\n",
       "      <td>0.171486</td>\n",
       "      <td>1</td>\n",
       "    </tr>\n",
       "    <tr>\n",
       "      <th>49995</th>\n",
       "      <td>toyota</td>\n",
       "      <td>avanza</td>\n",
       "      <td>g</td>\n",
       "      <td>1.3</td>\n",
       "      <td>2010</td>\n",
       "      <td>Manual</td>\n",
       "      <td>70000000</td>\n",
       "      <td>0.147163</td>\n",
       "      <td>1</td>\n",
       "    </tr>\n",
       "    <tr>\n",
       "      <th>49997</th>\n",
       "      <td>toyota</td>\n",
       "      <td>kijang innova</td>\n",
       "      <td>v</td>\n",
       "      <td>2.0</td>\n",
       "      <td>2019</td>\n",
       "      <td>Auto</td>\n",
       "      <td>290000000</td>\n",
       "      <td>0.033184</td>\n",
       "      <td>1</td>\n",
       "    </tr>\n",
       "    <tr>\n",
       "      <th>49998</th>\n",
       "      <td>toyota</td>\n",
       "      <td>avanza</td>\n",
       "      <td>veloz</td>\n",
       "      <td>1.5</td>\n",
       "      <td>2017</td>\n",
       "      <td>Auto</td>\n",
       "      <td>135000000</td>\n",
       "      <td>0.155501</td>\n",
       "      <td>1</td>\n",
       "    </tr>\n",
       "    <tr>\n",
       "      <th>49999</th>\n",
       "      <td>nissan</td>\n",
       "      <td>juke</td>\n",
       "      <td>rx</td>\n",
       "      <td>1.5</td>\n",
       "      <td>2011</td>\n",
       "      <td>Auto</td>\n",
       "      <td>85000000</td>\n",
       "      <td>0.144805</td>\n",
       "      <td>1</td>\n",
       "    </tr>\n",
       "  </tbody>\n",
       "</table>\n",
       "<p>47305 rows × 9 columns</p>\n",
       "</div>"
      ],
      "text/plain": [
       "      car_brand      car_model car_variant  car_engine  car_year  \\\n",
       "0         honda          freed           s         1.5      2012   \n",
       "1         honda           city        vtec         1.5      2011   \n",
       "2         honda           hr-v           s         1.5      2016   \n",
       "3        suzuki         ertiga          gl         1.4      2016   \n",
       "4        suzuki         ertiga          gx         1.4      2014   \n",
       "...         ...            ...         ...         ...       ...   \n",
       "49994     mazda         biante    skyactiv         2.0      2012   \n",
       "49995    toyota         avanza           g         1.3      2010   \n",
       "49997    toyota  kijang innova           v         2.0      2019   \n",
       "49998    toyota         avanza       veloz         1.5      2017   \n",
       "49999    nissan           juke          rx         1.5      2011   \n",
       "\n",
       "      car_transmission  reserveprice     score  anomaly  \n",
       "0                 Auto      85000000  0.144805        1  \n",
       "1                 Auto      95000000  0.159147        1  \n",
       "2                 Auto     139000000  0.157224        1  \n",
       "3               Manual     115000000  0.160581        1  \n",
       "4               Manual      85000000  0.144805        1  \n",
       "...                ...           ...       ...      ...  \n",
       "49994             Auto     110000000  0.171486        1  \n",
       "49995           Manual      70000000  0.147163        1  \n",
       "49997             Auto     290000000  0.033184        1  \n",
       "49998             Auto     135000000  0.155501        1  \n",
       "49999             Auto      85000000  0.144805        1  \n",
       "\n",
       "[47305 rows x 9 columns]"
      ]
     },
     "execution_count": 62,
     "metadata": {},
     "output_type": "execute_result"
    }
   ],
   "source": [
    "car_df_outlier_rm"
   ]
  },
  {
   "cell_type": "code",
   "execution_count": 63,
   "id": "6e01a7cd",
   "metadata": {},
   "outputs": [],
   "source": [
    "car_df_outlier_rm = car_df_outlier_rm.drop(['score', 'anomaly'], axis = 1)"
   ]
  },
  {
   "cell_type": "code",
   "execution_count": 64,
   "id": "3b0d5b6d",
   "metadata": {},
   "outputs": [],
   "source": [
    "obj_feats = (car_df_outlier_rm.dtypes == 'object')\n",
    "obj_cols = list(obj_feats[obj_feats].index)\n",
    "df_label = car_df_outlier_rm.copy()\n",
    "label_encoder = LabelEncoder()"
   ]
  },
  {
   "cell_type": "code",
   "execution_count": 65,
   "id": "513a7511",
   "metadata": {
    "scrolled": true
   },
   "outputs": [
    {
     "data": {
      "text/html": [
       "<div>\n",
       "<style scoped>\n",
       "    .dataframe tbody tr th:only-of-type {\n",
       "        vertical-align: middle;\n",
       "    }\n",
       "\n",
       "    .dataframe tbody tr th {\n",
       "        vertical-align: top;\n",
       "    }\n",
       "\n",
       "    .dataframe thead th {\n",
       "        text-align: right;\n",
       "    }\n",
       "</style>\n",
       "<table border=\"1\" class=\"dataframe\">\n",
       "  <thead>\n",
       "    <tr style=\"text-align: right;\">\n",
       "      <th></th>\n",
       "      <th>car_brand</th>\n",
       "      <th>car_model</th>\n",
       "      <th>car_variant</th>\n",
       "      <th>car_engine</th>\n",
       "      <th>car_year</th>\n",
       "      <th>car_transmission</th>\n",
       "      <th>reserveprice</th>\n",
       "    </tr>\n",
       "  </thead>\n",
       "  <tbody>\n",
       "    <tr>\n",
       "      <th>0</th>\n",
       "      <td>7</td>\n",
       "      <td>76</td>\n",
       "      <td>252</td>\n",
       "      <td>1.5</td>\n",
       "      <td>2012</td>\n",
       "      <td>0</td>\n",
       "      <td>85000000</td>\n",
       "    </tr>\n",
       "    <tr>\n",
       "      <th>1</th>\n",
       "      <td>7</td>\n",
       "      <td>35</td>\n",
       "      <td>345</td>\n",
       "      <td>1.5</td>\n",
       "      <td>2011</td>\n",
       "      <td>0</td>\n",
       "      <td>95000000</td>\n",
       "    </tr>\n",
       "    <tr>\n",
       "      <th>2</th>\n",
       "      <td>7</td>\n",
       "      <td>98</td>\n",
       "      <td>252</td>\n",
       "      <td>1.5</td>\n",
       "      <td>2016</td>\n",
       "      <td>0</td>\n",
       "      <td>139000000</td>\n",
       "    </tr>\n",
       "    <tr>\n",
       "      <th>3</th>\n",
       "      <td>21</td>\n",
       "      <td>69</td>\n",
       "      <td>143</td>\n",
       "      <td>1.4</td>\n",
       "      <td>2016</td>\n",
       "      <td>1</td>\n",
       "      <td>115000000</td>\n",
       "    </tr>\n",
       "    <tr>\n",
       "      <th>4</th>\n",
       "      <td>21</td>\n",
       "      <td>69</td>\n",
       "      <td>165</td>\n",
       "      <td>1.4</td>\n",
       "      <td>2014</td>\n",
       "      <td>1</td>\n",
       "      <td>85000000</td>\n",
       "    </tr>\n",
       "    <tr>\n",
       "      <th>...</th>\n",
       "      <td>...</td>\n",
       "      <td>...</td>\n",
       "      <td>...</td>\n",
       "      <td>...</td>\n",
       "      <td>...</td>\n",
       "      <td>...</td>\n",
       "      <td>...</td>\n",
       "    </tr>\n",
       "    <tr>\n",
       "      <th>49994</th>\n",
       "      <td>12</td>\n",
       "      <td>25</td>\n",
       "      <td>280</td>\n",
       "      <td>2.0</td>\n",
       "      <td>2012</td>\n",
       "      <td>0</td>\n",
       "      <td>110000000</td>\n",
       "    </tr>\n",
       "    <tr>\n",
       "      <th>49995</th>\n",
       "      <td>23</td>\n",
       "      <td>20</td>\n",
       "      <td>131</td>\n",
       "      <td>1.3</td>\n",
       "      <td>2010</td>\n",
       "      <td>1</td>\n",
       "      <td>70000000</td>\n",
       "    </tr>\n",
       "    <tr>\n",
       "      <th>49997</th>\n",
       "      <td>23</td>\n",
       "      <td>108</td>\n",
       "      <td>326</td>\n",
       "      <td>2.0</td>\n",
       "      <td>2019</td>\n",
       "      <td>0</td>\n",
       "      <td>290000000</td>\n",
       "    </tr>\n",
       "    <tr>\n",
       "      <th>49998</th>\n",
       "      <td>23</td>\n",
       "      <td>20</td>\n",
       "      <td>336</td>\n",
       "      <td>1.5</td>\n",
       "      <td>2017</td>\n",
       "      <td>0</td>\n",
       "      <td>135000000</td>\n",
       "    </tr>\n",
       "    <tr>\n",
       "      <th>49999</th>\n",
       "      <td>16</td>\n",
       "      <td>103</td>\n",
       "      <td>247</td>\n",
       "      <td>1.5</td>\n",
       "      <td>2011</td>\n",
       "      <td>0</td>\n",
       "      <td>85000000</td>\n",
       "    </tr>\n",
       "  </tbody>\n",
       "</table>\n",
       "<p>47305 rows × 7 columns</p>\n",
       "</div>"
      ],
      "text/plain": [
       "       car_brand  car_model  car_variant  car_engine  car_year  \\\n",
       "0              7         76          252         1.5      2012   \n",
       "1              7         35          345         1.5      2011   \n",
       "2              7         98          252         1.5      2016   \n",
       "3             21         69          143         1.4      2016   \n",
       "4             21         69          165         1.4      2014   \n",
       "...          ...        ...          ...         ...       ...   \n",
       "49994         12         25          280         2.0      2012   \n",
       "49995         23         20          131         1.3      2010   \n",
       "49997         23        108          326         2.0      2019   \n",
       "49998         23         20          336         1.5      2017   \n",
       "49999         16        103          247         1.5      2011   \n",
       "\n",
       "       car_transmission  reserveprice  \n",
       "0                     0      85000000  \n",
       "1                     0      95000000  \n",
       "2                     0     139000000  \n",
       "3                     1     115000000  \n",
       "4                     1      85000000  \n",
       "...                 ...           ...  \n",
       "49994                 0     110000000  \n",
       "49995                 1      70000000  \n",
       "49997                 0     290000000  \n",
       "49998                 0     135000000  \n",
       "49999                 0      85000000  \n",
       "\n",
       "[47305 rows x 7 columns]"
      ]
     },
     "execution_count": 65,
     "metadata": {},
     "output_type": "execute_result"
    }
   ],
   "source": [
    "for col in obj_cols:\n",
    "    df_label[col] = label_encoder.fit_transform(car_df_outlier_rm[col])\n",
    "df_label"
   ]
  },
  {
   "cell_type": "markdown",
   "id": "dcfd0191",
   "metadata": {},
   "source": [
    "### Split the data"
   ]
  },
  {
   "cell_type": "code",
   "execution_count": 66,
   "id": "eb361074",
   "metadata": {},
   "outputs": [],
   "source": [
    "target = ['reserveprice']\n",
    "X = df_label.drop(target, axis = 1)\n",
    "y = df_label[target]"
   ]
  },
  {
   "cell_type": "code",
   "execution_count": 67,
   "id": "fc005949",
   "metadata": {},
   "outputs": [
    {
     "data": {
      "text/html": [
       "<div>\n",
       "<style scoped>\n",
       "    .dataframe tbody tr th:only-of-type {\n",
       "        vertical-align: middle;\n",
       "    }\n",
       "\n",
       "    .dataframe tbody tr th {\n",
       "        vertical-align: top;\n",
       "    }\n",
       "\n",
       "    .dataframe thead th {\n",
       "        text-align: right;\n",
       "    }\n",
       "</style>\n",
       "<table border=\"1\" class=\"dataframe\">\n",
       "  <thead>\n",
       "    <tr style=\"text-align: right;\">\n",
       "      <th></th>\n",
       "      <th>car_brand</th>\n",
       "      <th>car_model</th>\n",
       "      <th>car_variant</th>\n",
       "      <th>car_engine</th>\n",
       "      <th>car_year</th>\n",
       "      <th>car_transmission</th>\n",
       "    </tr>\n",
       "  </thead>\n",
       "  <tbody>\n",
       "    <tr>\n",
       "      <th>0</th>\n",
       "      <td>7</td>\n",
       "      <td>76</td>\n",
       "      <td>252</td>\n",
       "      <td>1.5</td>\n",
       "      <td>2012</td>\n",
       "      <td>0</td>\n",
       "    </tr>\n",
       "    <tr>\n",
       "      <th>1</th>\n",
       "      <td>7</td>\n",
       "      <td>35</td>\n",
       "      <td>345</td>\n",
       "      <td>1.5</td>\n",
       "      <td>2011</td>\n",
       "      <td>0</td>\n",
       "    </tr>\n",
       "    <tr>\n",
       "      <th>2</th>\n",
       "      <td>7</td>\n",
       "      <td>98</td>\n",
       "      <td>252</td>\n",
       "      <td>1.5</td>\n",
       "      <td>2016</td>\n",
       "      <td>0</td>\n",
       "    </tr>\n",
       "    <tr>\n",
       "      <th>3</th>\n",
       "      <td>21</td>\n",
       "      <td>69</td>\n",
       "      <td>143</td>\n",
       "      <td>1.4</td>\n",
       "      <td>2016</td>\n",
       "      <td>1</td>\n",
       "    </tr>\n",
       "    <tr>\n",
       "      <th>4</th>\n",
       "      <td>21</td>\n",
       "      <td>69</td>\n",
       "      <td>165</td>\n",
       "      <td>1.4</td>\n",
       "      <td>2014</td>\n",
       "      <td>1</td>\n",
       "    </tr>\n",
       "    <tr>\n",
       "      <th>...</th>\n",
       "      <td>...</td>\n",
       "      <td>...</td>\n",
       "      <td>...</td>\n",
       "      <td>...</td>\n",
       "      <td>...</td>\n",
       "      <td>...</td>\n",
       "    </tr>\n",
       "    <tr>\n",
       "      <th>49994</th>\n",
       "      <td>12</td>\n",
       "      <td>25</td>\n",
       "      <td>280</td>\n",
       "      <td>2.0</td>\n",
       "      <td>2012</td>\n",
       "      <td>0</td>\n",
       "    </tr>\n",
       "    <tr>\n",
       "      <th>49995</th>\n",
       "      <td>23</td>\n",
       "      <td>20</td>\n",
       "      <td>131</td>\n",
       "      <td>1.3</td>\n",
       "      <td>2010</td>\n",
       "      <td>1</td>\n",
       "    </tr>\n",
       "    <tr>\n",
       "      <th>49997</th>\n",
       "      <td>23</td>\n",
       "      <td>108</td>\n",
       "      <td>326</td>\n",
       "      <td>2.0</td>\n",
       "      <td>2019</td>\n",
       "      <td>0</td>\n",
       "    </tr>\n",
       "    <tr>\n",
       "      <th>49998</th>\n",
       "      <td>23</td>\n",
       "      <td>20</td>\n",
       "      <td>336</td>\n",
       "      <td>1.5</td>\n",
       "      <td>2017</td>\n",
       "      <td>0</td>\n",
       "    </tr>\n",
       "    <tr>\n",
       "      <th>49999</th>\n",
       "      <td>16</td>\n",
       "      <td>103</td>\n",
       "      <td>247</td>\n",
       "      <td>1.5</td>\n",
       "      <td>2011</td>\n",
       "      <td>0</td>\n",
       "    </tr>\n",
       "  </tbody>\n",
       "</table>\n",
       "<p>47305 rows × 6 columns</p>\n",
       "</div>"
      ],
      "text/plain": [
       "       car_brand  car_model  car_variant  car_engine  car_year  \\\n",
       "0              7         76          252         1.5      2012   \n",
       "1              7         35          345         1.5      2011   \n",
       "2              7         98          252         1.5      2016   \n",
       "3             21         69          143         1.4      2016   \n",
       "4             21         69          165         1.4      2014   \n",
       "...          ...        ...          ...         ...       ...   \n",
       "49994         12         25          280         2.0      2012   \n",
       "49995         23         20          131         1.3      2010   \n",
       "49997         23        108          326         2.0      2019   \n",
       "49998         23         20          336         1.5      2017   \n",
       "49999         16        103          247         1.5      2011   \n",
       "\n",
       "       car_transmission  \n",
       "0                     0  \n",
       "1                     0  \n",
       "2                     0  \n",
       "3                     1  \n",
       "4                     1  \n",
       "...                 ...  \n",
       "49994                 0  \n",
       "49995                 1  \n",
       "49997                 0  \n",
       "49998                 0  \n",
       "49999                 0  \n",
       "\n",
       "[47305 rows x 6 columns]"
      ]
     },
     "execution_count": 67,
     "metadata": {},
     "output_type": "execute_result"
    }
   ],
   "source": [
    "X"
   ]
  },
  {
   "cell_type": "code",
   "execution_count": 68,
   "id": "e1dbc218",
   "metadata": {},
   "outputs": [
    {
     "data": {
      "text/html": [
       "<div>\n",
       "<style scoped>\n",
       "    .dataframe tbody tr th:only-of-type {\n",
       "        vertical-align: middle;\n",
       "    }\n",
       "\n",
       "    .dataframe tbody tr th {\n",
       "        vertical-align: top;\n",
       "    }\n",
       "\n",
       "    .dataframe thead th {\n",
       "        text-align: right;\n",
       "    }\n",
       "</style>\n",
       "<table border=\"1\" class=\"dataframe\">\n",
       "  <thead>\n",
       "    <tr style=\"text-align: right;\">\n",
       "      <th></th>\n",
       "      <th>reserveprice</th>\n",
       "    </tr>\n",
       "  </thead>\n",
       "  <tbody>\n",
       "    <tr>\n",
       "      <th>0</th>\n",
       "      <td>85000000</td>\n",
       "    </tr>\n",
       "    <tr>\n",
       "      <th>1</th>\n",
       "      <td>95000000</td>\n",
       "    </tr>\n",
       "    <tr>\n",
       "      <th>2</th>\n",
       "      <td>139000000</td>\n",
       "    </tr>\n",
       "    <tr>\n",
       "      <th>3</th>\n",
       "      <td>115000000</td>\n",
       "    </tr>\n",
       "    <tr>\n",
       "      <th>4</th>\n",
       "      <td>85000000</td>\n",
       "    </tr>\n",
       "    <tr>\n",
       "      <th>...</th>\n",
       "      <td>...</td>\n",
       "    </tr>\n",
       "    <tr>\n",
       "      <th>49994</th>\n",
       "      <td>110000000</td>\n",
       "    </tr>\n",
       "    <tr>\n",
       "      <th>49995</th>\n",
       "      <td>70000000</td>\n",
       "    </tr>\n",
       "    <tr>\n",
       "      <th>49997</th>\n",
       "      <td>290000000</td>\n",
       "    </tr>\n",
       "    <tr>\n",
       "      <th>49998</th>\n",
       "      <td>135000000</td>\n",
       "    </tr>\n",
       "    <tr>\n",
       "      <th>49999</th>\n",
       "      <td>85000000</td>\n",
       "    </tr>\n",
       "  </tbody>\n",
       "</table>\n",
       "<p>47305 rows × 1 columns</p>\n",
       "</div>"
      ],
      "text/plain": [
       "       reserveprice\n",
       "0          85000000\n",
       "1          95000000\n",
       "2         139000000\n",
       "3         115000000\n",
       "4          85000000\n",
       "...             ...\n",
       "49994     110000000\n",
       "49995      70000000\n",
       "49997     290000000\n",
       "49998     135000000\n",
       "49999      85000000\n",
       "\n",
       "[47305 rows x 1 columns]"
      ]
     },
     "execution_count": 68,
     "metadata": {},
     "output_type": "execute_result"
    }
   ],
   "source": [
    "y"
   ]
  },
  {
   "cell_type": "code",
   "execution_count": 69,
   "id": "53f59f5a",
   "metadata": {},
   "outputs": [],
   "source": [
    "# Splitting data into train and test set\n",
    "\n",
    "X_train, X_test, y_train, y_test = train_test_split(X, y, train_size=.7, random_state=42)"
   ]
  },
  {
   "cell_type": "code",
   "execution_count": 70,
   "id": "a17327ae",
   "metadata": {},
   "outputs": [
    {
     "name": "stdout",
     "output_type": "stream",
     "text": [
      "(47305, 6) (33113, 6) (14192, 6)\n",
      "(47305, 1) (33113, 1) (14192, 1)\n"
     ]
    }
   ],
   "source": [
    "print(X.shape, X_train.shape, X_test.shape)\n",
    "print(y.shape, y_train.shape, y_test.shape)"
   ]
  },
  {
   "cell_type": "markdown",
   "id": "0f7f2290",
   "metadata": {},
   "source": [
    "### Build decision tree model"
   ]
  },
  {
   "cell_type": "code",
   "execution_count": 71,
   "id": "7c8fa0ad",
   "metadata": {},
   "outputs": [],
   "source": [
    "# Load the model\n",
    "dec_model = DecisionTreeRegressor(random_state=1)"
   ]
  },
  {
   "cell_type": "code",
   "execution_count": 72,
   "id": "9ea18b11",
   "metadata": {},
   "outputs": [
    {
     "data": {
      "text/html": [
       "<style>#sk-container-id-4 {color: black;background-color: white;}#sk-container-id-4 pre{padding: 0;}#sk-container-id-4 div.sk-toggleable {background-color: white;}#sk-container-id-4 label.sk-toggleable__label {cursor: pointer;display: block;width: 100%;margin-bottom: 0;padding: 0.3em;box-sizing: border-box;text-align: center;}#sk-container-id-4 label.sk-toggleable__label-arrow:before {content: \"▸\";float: left;margin-right: 0.25em;color: #696969;}#sk-container-id-4 label.sk-toggleable__label-arrow:hover:before {color: black;}#sk-container-id-4 div.sk-estimator:hover label.sk-toggleable__label-arrow:before {color: black;}#sk-container-id-4 div.sk-toggleable__content {max-height: 0;max-width: 0;overflow: hidden;text-align: left;background-color: #f0f8ff;}#sk-container-id-4 div.sk-toggleable__content pre {margin: 0.2em;color: black;border-radius: 0.25em;background-color: #f0f8ff;}#sk-container-id-4 input.sk-toggleable__control:checked~div.sk-toggleable__content {max-height: 200px;max-width: 100%;overflow: auto;}#sk-container-id-4 input.sk-toggleable__control:checked~label.sk-toggleable__label-arrow:before {content: \"▾\";}#sk-container-id-4 div.sk-estimator input.sk-toggleable__control:checked~label.sk-toggleable__label {background-color: #d4ebff;}#sk-container-id-4 div.sk-label input.sk-toggleable__control:checked~label.sk-toggleable__label {background-color: #d4ebff;}#sk-container-id-4 input.sk-hidden--visually {border: 0;clip: rect(1px 1px 1px 1px);clip: rect(1px, 1px, 1px, 1px);height: 1px;margin: -1px;overflow: hidden;padding: 0;position: absolute;width: 1px;}#sk-container-id-4 div.sk-estimator {font-family: monospace;background-color: #f0f8ff;border: 1px dotted black;border-radius: 0.25em;box-sizing: border-box;margin-bottom: 0.5em;}#sk-container-id-4 div.sk-estimator:hover {background-color: #d4ebff;}#sk-container-id-4 div.sk-parallel-item::after {content: \"\";width: 100%;border-bottom: 1px solid gray;flex-grow: 1;}#sk-container-id-4 div.sk-label:hover label.sk-toggleable__label {background-color: #d4ebff;}#sk-container-id-4 div.sk-serial::before {content: \"\";position: absolute;border-left: 1px solid gray;box-sizing: border-box;top: 0;bottom: 0;left: 50%;z-index: 0;}#sk-container-id-4 div.sk-serial {display: flex;flex-direction: column;align-items: center;background-color: white;padding-right: 0.2em;padding-left: 0.2em;position: relative;}#sk-container-id-4 div.sk-item {position: relative;z-index: 1;}#sk-container-id-4 div.sk-parallel {display: flex;align-items: stretch;justify-content: center;background-color: white;position: relative;}#sk-container-id-4 div.sk-item::before, #sk-container-id-4 div.sk-parallel-item::before {content: \"\";position: absolute;border-left: 1px solid gray;box-sizing: border-box;top: 0;bottom: 0;left: 50%;z-index: -1;}#sk-container-id-4 div.sk-parallel-item {display: flex;flex-direction: column;z-index: 1;position: relative;background-color: white;}#sk-container-id-4 div.sk-parallel-item:first-child::after {align-self: flex-end;width: 50%;}#sk-container-id-4 div.sk-parallel-item:last-child::after {align-self: flex-start;width: 50%;}#sk-container-id-4 div.sk-parallel-item:only-child::after {width: 0;}#sk-container-id-4 div.sk-dashed-wrapped {border: 1px dashed gray;margin: 0 0.4em 0.5em 0.4em;box-sizing: border-box;padding-bottom: 0.4em;background-color: white;}#sk-container-id-4 div.sk-label label {font-family: monospace;font-weight: bold;display: inline-block;line-height: 1.2em;}#sk-container-id-4 div.sk-label-container {text-align: center;}#sk-container-id-4 div.sk-container {/* jupyter's `normalize.less` sets `[hidden] { display: none; }` but bootstrap.min.css set `[hidden] { display: none !important; }` so we also need the `!important` here to be able to override the default hidden behavior on the sphinx rendered scikit-learn.org. See: https://github.com/scikit-learn/scikit-learn/issues/21755 */display: inline-block !important;position: relative;}#sk-container-id-4 div.sk-text-repr-fallback {display: none;}</style><div id=\"sk-container-id-4\" class=\"sk-top-container\"><div class=\"sk-text-repr-fallback\"><pre>DecisionTreeRegressor(random_state=1)</pre><b>In a Jupyter environment, please rerun this cell to show the HTML representation or trust the notebook. <br />On GitHub, the HTML representation is unable to render, please try loading this page with nbviewer.org.</b></div><div class=\"sk-container\" hidden><div class=\"sk-item\"><div class=\"sk-estimator sk-toggleable\"><input class=\"sk-toggleable__control sk-hidden--visually\" id=\"sk-estimator-id-4\" type=\"checkbox\" checked><label for=\"sk-estimator-id-4\" class=\"sk-toggleable__label sk-toggleable__label-arrow\">DecisionTreeRegressor</label><div class=\"sk-toggleable__content\"><pre>DecisionTreeRegressor(random_state=1)</pre></div></div></div></div></div>"
      ],
      "text/plain": [
       "DecisionTreeRegressor(random_state=1)"
      ]
     },
     "execution_count": 72,
     "metadata": {},
     "output_type": "execute_result"
    }
   ],
   "source": [
    "#Fitting training data\n",
    "dec_model.fit(X_train, y_train)"
   ]
  },
  {
   "cell_type": "markdown",
   "id": "5d7c3e54",
   "metadata": {},
   "source": [
    "### Model Evaluation"
   ]
  },
  {
   "cell_type": "code",
   "execution_count": 73,
   "id": "cbd65a82",
   "metadata": {},
   "outputs": [],
   "source": [
    "# Predict on training data\n",
    "y_train_pred = dec_model.predict(X_train)\n",
    "\n",
    "# R2 score on training data\n",
    "r2_score_train = metrics.r2_score(y_train, y_train_pred)\n",
    "\n",
    "# Mean absolute error on training data\n",
    "mae_train = metrics.mean_absolute_error(y_train, y_train_pred)"
   ]
  },
  {
   "cell_type": "code",
   "execution_count": 74,
   "id": "4ac86d99",
   "metadata": {},
   "outputs": [
    {
     "name": "stdout",
     "output_type": "stream",
     "text": [
      "0.9329812641093115\n",
      "12534679.833278326\n"
     ]
    }
   ],
   "source": [
    "print(r2_score_train)\n",
    "print(mae_train)"
   ]
  },
  {
   "cell_type": "code",
   "execution_count": 75,
   "id": "cb441ba9",
   "metadata": {},
   "outputs": [],
   "source": [
    "# Predict on testing data \n",
    "y_test_pred = dec_model.predict(X_test)\n",
    "\n",
    "# R2 score on testing data\n",
    "r2_score_test = metrics.r2_score(y_test, y_test_pred)\n",
    "\n",
    "# Mean absolute error on training data\n",
    "mae_test = metrics.mean_absolute_error(y_test, y_test_pred)"
   ]
  },
  {
   "cell_type": "code",
   "execution_count": 76,
   "id": "9a901562",
   "metadata": {},
   "outputs": [
    {
     "name": "stdout",
     "output_type": "stream",
     "text": [
      "0.892851312574048\n",
      "15822026.548981113\n"
     ]
    }
   ],
   "source": [
    "print(r2_score_test)\n",
    "print(mae_test)"
   ]
  },
  {
   "cell_type": "markdown",
   "id": "375ea9ce",
   "metadata": {},
   "source": [
    "### Saving model"
   ]
  },
  {
   "cell_type": "code",
   "execution_count": 77,
   "id": "54e7d68a",
   "metadata": {},
   "outputs": [
    {
     "data": {
      "text/plain": [
       "['dec_model.pkl']"
      ]
     },
     "execution_count": 77,
     "metadata": {},
     "output_type": "execute_result"
    }
   ],
   "source": [
    "# Save the IsolationForest\n",
    "joblib.dump(model, 'isolationforest.pkl')\n",
    "\n",
    "# Save the Label Encoder \n",
    "joblib.dump(label_encoder, 'label_encoder.pkl')\n",
    "\n",
    "# SAve the Decision Tree model\n",
    "joblib.dump(dec_model, 'dec_model.pkl')"
   ]
  },
  {
   "cell_type": "code",
   "execution_count": null,
   "id": "cc08f3ed",
   "metadata": {},
   "outputs": [],
   "source": []
  }
 ],
 "metadata": {
  "kernelspec": {
   "display_name": "Python 3 (ipykernel)",
   "language": "python",
   "name": "python3"
  },
  "language_info": {
   "codemirror_mode": {
    "name": "ipython",
    "version": 3
   },
   "file_extension": ".py",
   "mimetype": "text/x-python",
   "name": "python",
   "nbconvert_exporter": "python",
   "pygments_lexer": "ipython3",
   "version": "3.10.9"
  }
 },
 "nbformat": 4,
 "nbformat_minor": 5
}
